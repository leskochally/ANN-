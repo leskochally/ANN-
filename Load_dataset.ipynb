{
 "cells": [
  {
   "cell_type": "code",
   "execution_count": 1,
   "metadata": {},
   "outputs": [],
   "source": [
    "from seaborn import load_dataset"
   ]
  },
  {
   "cell_type": "code",
   "execution_count": 21,
   "metadata": {},
   "outputs": [],
   "source": [
    "df = load_dataset('tips')"
   ]
  },
  {
   "cell_type": "code",
   "execution_count": 22,
   "metadata": {},
   "outputs": [
    {
     "data": {
      "text/html": [
       "<div>\n",
       "<style scoped>\n",
       "    .dataframe tbody tr th:only-of-type {\n",
       "        vertical-align: middle;\n",
       "    }\n",
       "\n",
       "    .dataframe tbody tr th {\n",
       "        vertical-align: top;\n",
       "    }\n",
       "\n",
       "    .dataframe thead th {\n",
       "        text-align: right;\n",
       "    }\n",
       "</style>\n",
       "<table border=\"1\" class=\"dataframe\">\n",
       "  <thead>\n",
       "    <tr style=\"text-align: right;\">\n",
       "      <th></th>\n",
       "      <th>total_bill</th>\n",
       "      <th>tip</th>\n",
       "      <th>sex</th>\n",
       "      <th>smoker</th>\n",
       "      <th>day</th>\n",
       "      <th>time</th>\n",
       "      <th>size</th>\n",
       "    </tr>\n",
       "  </thead>\n",
       "  <tbody>\n",
       "    <tr>\n",
       "      <th>0</th>\n",
       "      <td>16.99</td>\n",
       "      <td>1.01</td>\n",
       "      <td>Female</td>\n",
       "      <td>No</td>\n",
       "      <td>Sun</td>\n",
       "      <td>Dinner</td>\n",
       "      <td>2</td>\n",
       "    </tr>\n",
       "    <tr>\n",
       "      <th>1</th>\n",
       "      <td>10.34</td>\n",
       "      <td>1.66</td>\n",
       "      <td>Male</td>\n",
       "      <td>No</td>\n",
       "      <td>Sun</td>\n",
       "      <td>Dinner</td>\n",
       "      <td>3</td>\n",
       "    </tr>\n",
       "    <tr>\n",
       "      <th>2</th>\n",
       "      <td>21.01</td>\n",
       "      <td>3.50</td>\n",
       "      <td>Male</td>\n",
       "      <td>No</td>\n",
       "      <td>Sun</td>\n",
       "      <td>Dinner</td>\n",
       "      <td>3</td>\n",
       "    </tr>\n",
       "    <tr>\n",
       "      <th>3</th>\n",
       "      <td>23.68</td>\n",
       "      <td>3.31</td>\n",
       "      <td>Male</td>\n",
       "      <td>No</td>\n",
       "      <td>Sun</td>\n",
       "      <td>Dinner</td>\n",
       "      <td>2</td>\n",
       "    </tr>\n",
       "    <tr>\n",
       "      <th>4</th>\n",
       "      <td>24.59</td>\n",
       "      <td>3.61</td>\n",
       "      <td>Female</td>\n",
       "      <td>No</td>\n",
       "      <td>Sun</td>\n",
       "      <td>Dinner</td>\n",
       "      <td>4</td>\n",
       "    </tr>\n",
       "  </tbody>\n",
       "</table>\n",
       "</div>"
      ],
      "text/plain": [
       "   total_bill   tip     sex smoker  day    time  size\n",
       "0       16.99  1.01  Female     No  Sun  Dinner     2\n",
       "1       10.34  1.66    Male     No  Sun  Dinner     3\n",
       "2       21.01  3.50    Male     No  Sun  Dinner     3\n",
       "3       23.68  3.31    Male     No  Sun  Dinner     2\n",
       "4       24.59  3.61  Female     No  Sun  Dinner     4"
      ]
     },
     "execution_count": 22,
     "metadata": {},
     "output_type": "execute_result"
    }
   ],
   "source": [
    "df.head()"
   ]
  },
  {
   "cell_type": "code",
   "execution_count": 23,
   "metadata": {},
   "outputs": [],
   "source": [
    "X=df.iloc[:,1:] ## independent features\n",
    "y=df.iloc[:,-7]"
   ]
  },
  {
   "cell_type": "code",
   "execution_count": 24,
   "metadata": {},
   "outputs": [
    {
     "data": {
      "text/plain": [
       "0    16.99\n",
       "1    10.34\n",
       "2    21.01\n",
       "3    23.68\n",
       "4    24.59\n",
       "Name: total_bill, dtype: float64"
      ]
     },
     "execution_count": 24,
     "metadata": {},
     "output_type": "execute_result"
    }
   ],
   "source": [
    "y.head()"
   ]
  },
  {
   "cell_type": "code",
   "execution_count": 26,
   "metadata": {},
   "outputs": [
    {
     "data": {
      "application/javascript": [
       "\n",
       "        if (window._pyforest_update_imports_cell) { window._pyforest_update_imports_cell('import pandas as pd'); }\n",
       "    "
      ],
      "text/plain": [
       "<IPython.core.display.Javascript object>"
      ]
     },
     "metadata": {},
     "output_type": "display_data"
    }
   ],
   "source": [
    "Dummy=pd.get_dummies(X,columns=[\"sex\",\"smoker\",\"day\",\"time\"],drop_first=True)"
   ]
  },
  {
   "cell_type": "code",
   "execution_count": 27,
   "metadata": {},
   "outputs": [
    {
     "data": {
      "application/javascript": [
       "\n",
       "        if (window._pyforest_update_imports_cell) { window._pyforest_update_imports_cell('import pandas as pd'); }\n",
       "    "
      ],
      "text/plain": [
       "<IPython.core.display.Javascript object>"
      ]
     },
     "metadata": {},
     "output_type": "display_data"
    }
   ],
   "source": [
    "X=pd.concat([X,Dummy],axis=1)"
   ]
  },
  {
   "cell_type": "code",
   "execution_count": 31,
   "metadata": {},
   "outputs": [
    {
     "data": {
      "text/html": [
       "<div>\n",
       "<style scoped>\n",
       "    .dataframe tbody tr th:only-of-type {\n",
       "        vertical-align: middle;\n",
       "    }\n",
       "\n",
       "    .dataframe tbody tr th {\n",
       "        vertical-align: top;\n",
       "    }\n",
       "\n",
       "    .dataframe thead th {\n",
       "        text-align: right;\n",
       "    }\n",
       "</style>\n",
       "<table border=\"1\" class=\"dataframe\">\n",
       "  <thead>\n",
       "    <tr style=\"text-align: right;\">\n",
       "      <th></th>\n",
       "      <th>tip</th>\n",
       "      <th>size</th>\n",
       "      <th>tip</th>\n",
       "      <th>size</th>\n",
       "      <th>sex_Female</th>\n",
       "      <th>smoker_No</th>\n",
       "      <th>day_Fri</th>\n",
       "      <th>day_Sat</th>\n",
       "      <th>day_Sun</th>\n",
       "      <th>time_Dinner</th>\n",
       "    </tr>\n",
       "  </thead>\n",
       "  <tbody>\n",
       "    <tr>\n",
       "      <th>0</th>\n",
       "      <td>1.01</td>\n",
       "      <td>2</td>\n",
       "      <td>1.01</td>\n",
       "      <td>2</td>\n",
       "      <td>1</td>\n",
       "      <td>1</td>\n",
       "      <td>0</td>\n",
       "      <td>0</td>\n",
       "      <td>1</td>\n",
       "      <td>1</td>\n",
       "    </tr>\n",
       "    <tr>\n",
       "      <th>1</th>\n",
       "      <td>1.66</td>\n",
       "      <td>3</td>\n",
       "      <td>1.66</td>\n",
       "      <td>3</td>\n",
       "      <td>0</td>\n",
       "      <td>1</td>\n",
       "      <td>0</td>\n",
       "      <td>0</td>\n",
       "      <td>1</td>\n",
       "      <td>1</td>\n",
       "    </tr>\n",
       "    <tr>\n",
       "      <th>2</th>\n",
       "      <td>3.50</td>\n",
       "      <td>3</td>\n",
       "      <td>3.50</td>\n",
       "      <td>3</td>\n",
       "      <td>0</td>\n",
       "      <td>1</td>\n",
       "      <td>0</td>\n",
       "      <td>0</td>\n",
       "      <td>1</td>\n",
       "      <td>1</td>\n",
       "    </tr>\n",
       "    <tr>\n",
       "      <th>3</th>\n",
       "      <td>3.31</td>\n",
       "      <td>2</td>\n",
       "      <td>3.31</td>\n",
       "      <td>2</td>\n",
       "      <td>0</td>\n",
       "      <td>1</td>\n",
       "      <td>0</td>\n",
       "      <td>0</td>\n",
       "      <td>1</td>\n",
       "      <td>1</td>\n",
       "    </tr>\n",
       "    <tr>\n",
       "      <th>4</th>\n",
       "      <td>3.61</td>\n",
       "      <td>4</td>\n",
       "      <td>3.61</td>\n",
       "      <td>4</td>\n",
       "      <td>1</td>\n",
       "      <td>1</td>\n",
       "      <td>0</td>\n",
       "      <td>0</td>\n",
       "      <td>1</td>\n",
       "      <td>1</td>\n",
       "    </tr>\n",
       "  </tbody>\n",
       "</table>\n",
       "</div>"
      ],
      "text/plain": [
       "    tip  size   tip  size  sex_Female  smoker_No  day_Fri  day_Sat  day_Sun  \\\n",
       "0  1.01     2  1.01     2           1          1        0        0        1   \n",
       "1  1.66     3  1.66     3           0          1        0        0        1   \n",
       "2  3.50     3  3.50     3           0          1        0        0        1   \n",
       "3  3.31     2  3.31     2           0          1        0        0        1   \n",
       "4  3.61     4  3.61     4           1          1        0        0        1   \n",
       "\n",
       "   time_Dinner  \n",
       "0            1  \n",
       "1            1  \n",
       "2            1  \n",
       "3            1  \n",
       "4            1  "
      ]
     },
     "execution_count": 31,
     "metadata": {},
     "output_type": "execute_result"
    }
   ],
   "source": [
    "X.head()"
   ]
  },
  {
   "cell_type": "code",
   "execution_count": 30,
   "metadata": {},
   "outputs": [],
   "source": [
    "X=X.drop([\"sex\",\"smoker\",\"day\",\"time\"],axis=1)"
   ]
  },
  {
   "cell_type": "code",
   "execution_count": 32,
   "metadata": {},
   "outputs": [],
   "source": [
    "from sklearn.model_selection import train_test_split\n",
    "X_train, X_test, y_train, y_test = train_test_split(X, y, test_size=0.3, random_state=0)\n"
   ]
  },
  {
   "cell_type": "code",
   "execution_count": 33,
   "metadata": {},
   "outputs": [],
   "source": [
    "from sklearn.preprocessing import StandardScaler\n",
    "sc = StandardScaler()\n",
    "X_train = sc.fit_transform(X_train)\n",
    "X_test = sc.transform(X_test)"
   ]
  },
  {
   "cell_type": "code",
   "execution_count": 34,
   "metadata": {},
   "outputs": [],
   "source": [
    "import tensorflow.keras\n",
    "from tensorflow.keras.models import Sequential\n",
    "from tensorflow.keras.layers import Dense\n",
    "from tensorflow.keras.layers import Dropout"
   ]
  },
  {
   "cell_type": "code",
   "execution_count": 36,
   "metadata": {},
   "outputs": [
    {
     "name": "stdout",
     "output_type": "stream",
     "text": [
      "Model: \"sequential\"\n",
      "_________________________________________________________________\n",
      "Layer (type)                 Output Shape              Param #   \n",
      "=================================================================\n",
      "dense (Dense)                (None, 6)                 66        \n",
      "_________________________________________________________________\n",
      "dense_1 (Dense)              (None, 256)               1792      \n",
      "_________________________________________________________________\n",
      "dense_2 (Dense)              (None, 256)               65792     \n",
      "_________________________________________________________________\n",
      "dense_3 (Dense)              (None, 256)               65792     \n",
      "_________________________________________________________________\n",
      "dense_4 (Dense)              (None, 1)                 257       \n",
      "=================================================================\n",
      "Total params: 133,699\n",
      "Trainable params: 133,699\n",
      "Non-trainable params: 0\n",
      "_________________________________________________________________\n",
      "Train on 113 samples, validate on 57 samples\n",
      "Epoch 1/100\n",
      "113/113 [==============================] - 3s 31ms/sample - loss: 14.5810 - mean_absolute_error: 14.5810 - val_loss: 15.9794 - val_mean_absolute_error: 15.9794\n",
      "Epoch 2/100\n",
      "113/113 [==============================] - 1s 5ms/sample - loss: 10.6695 - mean_absolute_error: 10.6695 - val_loss: 9.4199 - val_mean_absolute_error: 9.4199\n",
      "Epoch 3/100\n",
      "113/113 [==============================] - 0s 2ms/sample - loss: 8.7054 - mean_absolute_error: 8.7054 - val_loss: 9.0457 - val_mean_absolute_error: 9.0457\n",
      "Epoch 4/100\n",
      "113/113 [==============================] - 0s 2ms/sample - loss: 7.5084 - mean_absolute_error: 7.5084 - val_loss: 8.0895 - val_mean_absolute_error: 8.0895\n",
      "Epoch 5/100\n",
      "113/113 [==============================] - 0s 2ms/sample - loss: 6.4537 - mean_absolute_error: 6.4537 - val_loss: 7.9571 - val_mean_absolute_error: 7.9571\n",
      "Epoch 6/100\n",
      "113/113 [==============================] - 0s 3ms/sample - loss: 5.9608 - mean_absolute_error: 5.9608 - val_loss: 7.7614 - val_mean_absolute_error: 7.7614\n",
      "Epoch 7/100\n",
      "113/113 [==============================] - 0s 3ms/sample - loss: 5.4587 - mean_absolute_error: 5.4587 - val_loss: 6.9347 - val_mean_absolute_error: 6.9347\n",
      "Epoch 8/100\n",
      "113/113 [==============================] - 0s 3ms/sample - loss: 5.8856 - mean_absolute_error: 5.8856 - val_loss: 7.3018 - val_mean_absolute_error: 7.3018\n",
      "Epoch 9/100\n",
      "113/113 [==============================] - 0s 2ms/sample - loss: 5.3328 - mean_absolute_error: 5.3328 - val_loss: 6.5061 - val_mean_absolute_error: 6.5061\n",
      "Epoch 10/100\n",
      "113/113 [==============================] - 0s 2ms/sample - loss: 5.2760 - mean_absolute_error: 5.2760 - val_loss: 6.6900 - val_mean_absolute_error: 6.6900\n",
      "Epoch 11/100\n",
      "113/113 [==============================] - 0s 2ms/sample - loss: 4.9110 - mean_absolute_error: 4.9110 - val_loss: 5.9239 - val_mean_absolute_error: 5.9239\n",
      "Epoch 12/100\n",
      "113/113 [==============================] - 0s 2ms/sample - loss: 4.6364 - mean_absolute_error: 4.6364 - val_loss: 6.1917 - val_mean_absolute_error: 6.1917\n",
      "Epoch 13/100\n",
      "113/113 [==============================] - 0s 2ms/sample - loss: 4.5642 - mean_absolute_error: 4.5642 - val_loss: 6.2391 - val_mean_absolute_error: 6.2391\n",
      "Epoch 14/100\n",
      "113/113 [==============================] - 0s 2ms/sample - loss: 4.5770 - mean_absolute_error: 4.5770 - val_loss: 6.6317 - val_mean_absolute_error: 6.6317\n",
      "Epoch 15/100\n",
      "113/113 [==============================] - 0s 2ms/sample - loss: 4.3663 - mean_absolute_error: 4.3663 - val_loss: 5.9664 - val_mean_absolute_error: 5.9664\n",
      "Epoch 16/100\n",
      "113/113 [==============================] - 0s 1ms/sample - loss: 4.2807 - mean_absolute_error: 4.2807 - val_loss: 6.4289 - val_mean_absolute_error: 6.4289\n",
      "Epoch 17/100\n",
      "113/113 [==============================] - 0s 939us/sample - loss: 4.1408 - mean_absolute_error: 4.1408 - val_loss: 7.0945 - val_mean_absolute_error: 7.0945\n",
      "Epoch 18/100\n",
      "113/113 [==============================] - 0s 972us/sample - loss: 4.5241 - mean_absolute_error: 4.5241 - val_loss: 6.3140 - val_mean_absolute_error: 6.3140\n",
      "Epoch 19/100\n",
      "113/113 [==============================] - 0s 1ms/sample - loss: 3.6738 - mean_absolute_error: 3.6738 - val_loss: 6.4452 - val_mean_absolute_error: 6.4452\n",
      "Epoch 20/100\n",
      "113/113 [==============================] - 0s 1ms/sample - loss: 3.8989 - mean_absolute_error: 3.8989 - val_loss: 6.9924 - val_mean_absolute_error: 6.9924\n",
      "Epoch 21/100\n",
      "113/113 [==============================] - 0s 1ms/sample - loss: 3.4908 - mean_absolute_error: 3.4908 - val_loss: 6.6045 - val_mean_absolute_error: 6.6045\n",
      "Epoch 22/100\n",
      "113/113 [==============================] - 0s 1ms/sample - loss: 3.2675 - mean_absolute_error: 3.2675 - val_loss: 6.7350 - val_mean_absolute_error: 6.7350\n",
      "Epoch 23/100\n",
      "113/113 [==============================] - 0s 1ms/sample - loss: 3.4168 - mean_absolute_error: 3.4168 - val_loss: 7.2008 - val_mean_absolute_error: 7.2008\n",
      "Epoch 24/100\n",
      "113/113 [==============================] - 0s 1ms/sample - loss: 3.2680 - mean_absolute_error: 3.2680 - val_loss: 6.8654 - val_mean_absolute_error: 6.8654\n",
      "Epoch 25/100\n",
      "113/113 [==============================] - 0s 1ms/sample - loss: 3.0943 - mean_absolute_error: 3.0943 - val_loss: 6.7631 - val_mean_absolute_error: 6.7631\n",
      "Epoch 26/100\n",
      "113/113 [==============================] - 0s 1ms/sample - loss: 3.1604 - mean_absolute_error: 3.1604 - val_loss: 6.5763 - val_mean_absolute_error: 6.5763\n",
      "Epoch 27/100\n",
      "113/113 [==============================] - 0s 931us/sample - loss: 3.1664 - mean_absolute_error: 3.1664 - val_loss: 6.6486 - val_mean_absolute_error: 6.6486\n",
      "Epoch 28/100\n",
      "113/113 [==============================] - 0s 924us/sample - loss: 3.2280 - mean_absolute_error: 3.2280 - val_loss: 6.8102 - val_mean_absolute_error: 6.8102\n",
      "Epoch 29/100\n",
      "113/113 [==============================] - 0s 952us/sample - loss: 3.3406 - mean_absolute_error: 3.3406 - val_loss: 7.3605 - val_mean_absolute_error: 7.3605\n",
      "Epoch 30/100\n",
      "113/113 [==============================] - 0s 1ms/sample - loss: 3.2946 - mean_absolute_error: 3.2946 - val_loss: 6.8799 - val_mean_absolute_error: 6.8799\n",
      "Epoch 31/100\n",
      "113/113 [==============================] - 0s 1ms/sample - loss: 3.1459 - mean_absolute_error: 3.1459 - val_loss: 7.0525 - val_mean_absolute_error: 7.0525\n",
      "Epoch 32/100\n",
      "113/113 [==============================] - 0s 1ms/sample - loss: 3.0596 - mean_absolute_error: 3.0596 - val_loss: 7.0688 - val_mean_absolute_error: 7.0688\n",
      "Epoch 33/100\n",
      "113/113 [==============================] - 0s 759us/sample - loss: 2.9016 - mean_absolute_error: 2.9016 - val_loss: 6.9372 - val_mean_absolute_error: 6.9372\n",
      "Epoch 34/100\n",
      "113/113 [==============================] - 0s 964us/sample - loss: 2.9235 - mean_absolute_error: 2.9235 - val_loss: 6.7415 - val_mean_absolute_error: 6.7415\n",
      "Epoch 35/100\n",
      "113/113 [==============================] - 0s 692us/sample - loss: 2.9910 - mean_absolute_error: 2.9910 - val_loss: 6.8339 - val_mean_absolute_error: 6.8339\n",
      "Epoch 36/100\n",
      "113/113 [==============================] - 0s 797us/sample - loss: 2.9180 - mean_absolute_error: 2.9180 - val_loss: 6.5592 - val_mean_absolute_error: 6.5592\n",
      "Epoch 37/100\n",
      "113/113 [==============================] - 0s 956us/sample - loss: 3.0212 - mean_absolute_error: 3.0212 - val_loss: 7.3822 - val_mean_absolute_error: 7.3822\n",
      "Epoch 38/100\n",
      "113/113 [==============================] - 0s 836us/sample - loss: 3.0942 - mean_absolute_error: 3.0942 - val_loss: 7.2186 - val_mean_absolute_error: 7.2186\n",
      "Epoch 39/100\n",
      "113/113 [==============================] - 0s 899us/sample - loss: 3.2633 - mean_absolute_error: 3.2633 - val_loss: 6.5997 - val_mean_absolute_error: 6.5997\n",
      "Epoch 40/100\n",
      "113/113 [==============================] - 0s 931us/sample - loss: 3.1755 - mean_absolute_error: 3.1755 - val_loss: 7.0004 - val_mean_absolute_error: 7.0004\n",
      "Epoch 41/100\n",
      "113/113 [==============================] - 0s 1ms/sample - loss: 3.3372 - mean_absolute_error: 3.3372 - val_loss: 7.3210 - val_mean_absolute_error: 7.3210\n",
      "Epoch 42/100\n",
      "113/113 [==============================] - 0s 995us/sample - loss: 3.2511 - mean_absolute_error: 3.2511 - val_loss: 6.8512 - val_mean_absolute_error: 6.8512\n",
      "Epoch 43/100\n",
      "113/113 [==============================] - 0s 842us/sample - loss: 2.9420 - mean_absolute_error: 2.9420 - val_loss: 6.6822 - val_mean_absolute_error: 6.6822\n",
      "Epoch 44/100\n",
      "113/113 [==============================] - 0s 750us/sample - loss: 3.3236 - mean_absolute_error: 3.3236 - val_loss: 7.6934 - val_mean_absolute_error: 7.6934\n",
      "Epoch 45/100\n",
      "113/113 [==============================] - 0s 1ms/sample - loss: 3.0091 - mean_absolute_error: 3.0091 - val_loss: 7.0181 - val_mean_absolute_error: 7.0181\n",
      "Epoch 46/100\n",
      "113/113 [==============================] - 0s 1ms/sample - loss: 3.0028 - mean_absolute_error: 3.0028 - val_loss: 6.6653 - val_mean_absolute_error: 6.6653\n",
      "Epoch 47/100\n",
      "113/113 [==============================] - 0s 1ms/sample - loss: 2.9495 - mean_absolute_error: 2.9495 - val_loss: 6.7872 - val_mean_absolute_error: 6.7872\n",
      "Epoch 48/100\n",
      "113/113 [==============================] - 0s 1ms/sample - loss: 2.8416 - mean_absolute_error: 2.8416 - val_loss: 6.9826 - val_mean_absolute_error: 6.9826\n",
      "Epoch 49/100\n",
      "113/113 [==============================] - 0s 1ms/sample - loss: 3.3251 - mean_absolute_error: 3.3251 - val_loss: 7.3672 - val_mean_absolute_error: 7.3672\n",
      "Epoch 50/100\n",
      "113/113 [==============================] - 0s 1ms/sample - loss: 3.0153 - mean_absolute_error: 3.0153 - val_loss: 6.8713 - val_mean_absolute_error: 6.8713\n",
      "Epoch 51/100\n",
      "113/113 [==============================] - 0s 1ms/sample - loss: 3.3936 - mean_absolute_error: 3.3936 - val_loss: 6.7000 - val_mean_absolute_error: 6.7000\n",
      "Epoch 52/100\n",
      "113/113 [==============================] - 0s 1ms/sample - loss: 3.4316 - mean_absolute_error: 3.4316 - val_loss: 6.9585 - val_mean_absolute_error: 6.9585\n",
      "Epoch 53/100\n",
      "113/113 [==============================] - 0s 1ms/sample - loss: 2.9215 - mean_absolute_error: 2.9215 - val_loss: 6.6095 - val_mean_absolute_error: 6.6095\n",
      "Epoch 54/100\n",
      "113/113 [==============================] - 0s 1ms/sample - loss: 2.7433 - mean_absolute_error: 2.7433 - val_loss: 7.1375 - val_mean_absolute_error: 7.1375\n",
      "Epoch 55/100\n",
      "113/113 [==============================] - 0s 1ms/sample - loss: 3.1171 - mean_absolute_error: 3.1171 - val_loss: 6.7635 - val_mean_absolute_error: 6.7635\n",
      "Epoch 56/100\n",
      "113/113 [==============================] - 0s 1ms/sample - loss: 2.9662 - mean_absolute_error: 2.9662 - val_loss: 7.7883 - val_mean_absolute_error: 7.7883\n",
      "Epoch 57/100\n",
      "113/113 [==============================] - 0s 1ms/sample - loss: 3.0329 - mean_absolute_error: 3.0329 - val_loss: 7.2543 - val_mean_absolute_error: 7.2543\n",
      "Epoch 58/100\n",
      "113/113 [==============================] - 0s 994us/sample - loss: 2.7123 - mean_absolute_error: 2.7123 - val_loss: 6.8066 - val_mean_absolute_error: 6.8066\n",
      "Epoch 59/100\n",
      "113/113 [==============================] - 0s 1ms/sample - loss: 2.7152 - mean_absolute_error: 2.7152 - val_loss: 6.7295 - val_mean_absolute_error: 6.7295\n",
      "Epoch 60/100\n",
      "113/113 [==============================] - 0s 1ms/sample - loss: 2.6416 - mean_absolute_error: 2.6416 - val_loss: 7.2204 - val_mean_absolute_error: 7.2204\n",
      "Epoch 61/100\n",
      "113/113 [==============================] - 0s 930us/sample - loss: 2.9003 - mean_absolute_error: 2.9003 - val_loss: 7.2567 - val_mean_absolute_error: 7.2567\n",
      "Epoch 62/100\n",
      "113/113 [==============================] - 0s 1ms/sample - loss: 3.3332 - mean_absolute_error: 3.3332 - val_loss: 6.8628 - val_mean_absolute_error: 6.8628\n",
      "Epoch 63/100\n",
      "113/113 [==============================] - 0s 659us/sample - loss: 3.3022 - mean_absolute_error: 3.3022 - val_loss: 6.8093 - val_mean_absolute_error: 6.8093\n",
      "Epoch 64/100\n",
      "113/113 [==============================] - 0s 1ms/sample - loss: 3.1156 - mean_absolute_error: 3.1156 - val_loss: 7.3944 - val_mean_absolute_error: 7.3944\n",
      "Epoch 65/100\n",
      "113/113 [==============================] - 0s 1ms/sample - loss: 2.9230 - mean_absolute_error: 2.9230 - val_loss: 6.8972 - val_mean_absolute_error: 6.8972\n",
      "Epoch 66/100\n",
      "113/113 [==============================] - 0s 1ms/sample - loss: 2.8593 - mean_absolute_error: 2.8593 - val_loss: 6.6778 - val_mean_absolute_error: 6.6778\n",
      "Epoch 67/100\n",
      "113/113 [==============================] - 0s 728us/sample - loss: 2.8971 - mean_absolute_error: 2.8971 - val_loss: 7.8651 - val_mean_absolute_error: 7.8651\n",
      "Epoch 68/100\n",
      "113/113 [==============================] - 0s 1ms/sample - loss: 3.1113 - mean_absolute_error: 3.1113 - val_loss: 7.0886 - val_mean_absolute_error: 7.0886\n",
      "Epoch 69/100\n",
      "113/113 [==============================] - 0s 1ms/sample - loss: 2.7515 - mean_absolute_error: 2.7515 - val_loss: 6.6451 - val_mean_absolute_error: 6.6451\n",
      "Epoch 70/100\n",
      "113/113 [==============================] - 0s 1ms/sample - loss: 3.0572 - mean_absolute_error: 3.0572 - val_loss: 6.8075 - val_mean_absolute_error: 6.8075\n",
      "Epoch 71/100\n",
      "113/113 [==============================] - 0s 774us/sample - loss: 3.0238 - mean_absolute_error: 3.0238 - val_loss: 7.9079 - val_mean_absolute_error: 7.9079\n",
      "Epoch 72/100\n",
      "113/113 [==============================] - 0s 993us/sample - loss: 2.9761 - mean_absolute_error: 2.9761 - val_loss: 6.7778 - val_mean_absolute_error: 6.7778\n",
      "Epoch 73/100\n",
      "113/113 [==============================] - 0s 1ms/sample - loss: 2.9369 - mean_absolute_error: 2.9369 - val_loss: 6.9300 - val_mean_absolute_error: 6.9300\n",
      "Epoch 74/100\n",
      "113/113 [==============================] - 0s 999us/sample - loss: 2.6633 - mean_absolute_error: 2.6633 - val_loss: 7.0515 - val_mean_absolute_error: 7.0515\n",
      "Epoch 75/100\n",
      "113/113 [==============================] - 0s 971us/sample - loss: 2.6762 - mean_absolute_error: 2.6762 - val_loss: 7.2389 - val_mean_absolute_error: 7.2389\n",
      "Epoch 76/100\n",
      "113/113 [==============================] - 0s 645us/sample - loss: 2.5205 - mean_absolute_error: 2.5205 - val_loss: 7.5853 - val_mean_absolute_error: 7.5853\n",
      "Epoch 77/100\n",
      "113/113 [==============================] - 0s 682us/sample - loss: 2.6989 - mean_absolute_error: 2.6989 - val_loss: 6.9711 - val_mean_absolute_error: 6.9711\n",
      "Epoch 78/100\n",
      "113/113 [==============================] - 0s 1ms/sample - loss: 2.8044 - mean_absolute_error: 2.8044 - val_loss: 6.5824 - val_mean_absolute_error: 6.5824\n",
      "Epoch 79/100\n",
      "113/113 [==============================] - 0s 1ms/sample - loss: 2.9136 - mean_absolute_error: 2.9136 - val_loss: 7.5561 - val_mean_absolute_error: 7.5561\n",
      "Epoch 80/100\n",
      "113/113 [==============================] - 0s 1ms/sample - loss: 2.9725 - mean_absolute_error: 2.9725 - val_loss: 7.0809 - val_mean_absolute_error: 7.0809\n",
      "Epoch 81/100\n",
      "113/113 [==============================] - 0s 1ms/sample - loss: 2.9217 - mean_absolute_error: 2.9217 - val_loss: 6.7438 - val_mean_absolute_error: 6.7438\n",
      "Epoch 82/100\n",
      "113/113 [==============================] - 0s 996us/sample - loss: 3.0619 - mean_absolute_error: 3.0619 - val_loss: 7.4143 - val_mean_absolute_error: 7.4143\n",
      "Epoch 83/100\n",
      "113/113 [==============================] - 0s 1ms/sample - loss: 2.7787 - mean_absolute_error: 2.7787 - val_loss: 7.5184 - val_mean_absolute_error: 7.5184\n",
      "Epoch 84/100\n",
      "113/113 [==============================] - 0s 646us/sample - loss: 2.6740 - mean_absolute_error: 2.6740 - val_loss: 6.5003 - val_mean_absolute_error: 6.5003\n",
      "Epoch 85/100\n",
      "113/113 [==============================] - 0s 1ms/sample - loss: 3.2208 - mean_absolute_error: 3.2208 - val_loss: 7.5011 - val_mean_absolute_error: 7.5011\n",
      "Epoch 86/100\n",
      "113/113 [==============================] - 0s 1ms/sample - loss: 2.6453 - mean_absolute_error: 2.6453 - val_loss: 7.1965 - val_mean_absolute_error: 7.1965\n",
      "Epoch 87/100\n",
      "113/113 [==============================] - 0s 872us/sample - loss: 2.5769 - mean_absolute_error: 2.5769 - val_loss: 6.6638 - val_mean_absolute_error: 6.6638\n",
      "Epoch 88/100\n",
      "113/113 [==============================] - 0s 721us/sample - loss: 2.7452 - mean_absolute_error: 2.7452 - val_loss: 6.9563 - val_mean_absolute_error: 6.9563\n",
      "Epoch 89/100\n",
      "113/113 [==============================] - 0s 1ms/sample - loss: 2.6818 - mean_absolute_error: 2.6818 - val_loss: 7.6920 - val_mean_absolute_error: 7.6920\n",
      "Epoch 90/100\n",
      "113/113 [==============================] - 0s 772us/sample - loss: 2.7934 - mean_absolute_error: 2.7934 - val_loss: 6.8634 - val_mean_absolute_error: 6.8634\n",
      "Epoch 91/100\n",
      "113/113 [==============================] - 0s 1ms/sample - loss: 2.8948 - mean_absolute_error: 2.8948 - val_loss: 7.3185 - val_mean_absolute_error: 7.3185\n",
      "Epoch 92/100\n",
      "113/113 [==============================] - 0s 1ms/sample - loss: 2.5876 - mean_absolute_error: 2.5876 - val_loss: 7.2464 - val_mean_absolute_error: 7.2464\n",
      "Epoch 93/100\n",
      "113/113 [==============================] - 0s 1ms/sample - loss: 2.7590 - mean_absolute_error: 2.7590 - val_loss: 6.6289 - val_mean_absolute_error: 6.6289\n",
      "Epoch 94/100\n",
      "113/113 [==============================] - 0s 1ms/sample - loss: 3.1842 - mean_absolute_error: 3.1842 - val_loss: 9.2548 - val_mean_absolute_error: 9.2548\n",
      "Epoch 95/100\n",
      "113/113 [==============================] - 0s 1ms/sample - loss: 3.3568 - mean_absolute_error: 3.3568 - val_loss: 7.0319 - val_mean_absolute_error: 7.0319\n",
      "Epoch 96/100\n",
      "113/113 [==============================] - 0s 1ms/sample - loss: 3.0021 - mean_absolute_error: 3.0021 - val_loss: 7.2243 - val_mean_absolute_error: 7.2243\n",
      "Epoch 97/100\n",
      "113/113 [==============================] - 0s 1ms/sample - loss: 2.6444 - mean_absolute_error: 2.6444 - val_loss: 7.1041 - val_mean_absolute_error: 7.1041\n",
      "Epoch 98/100\n",
      "113/113 [==============================] - 0s 1ms/sample - loss: 2.7303 - mean_absolute_error: 2.7303 - val_loss: 6.6751 - val_mean_absolute_error: 6.6751\n",
      "Epoch 99/100\n",
      "113/113 [==============================] - 0s 1ms/sample - loss: 2.5349 - mean_absolute_error: 2.5349 - val_loss: 7.4345 - val_mean_absolute_error: 7.4345\n",
      "Epoch 100/100\n",
      "113/113 [==============================] - 0s 1ms/sample - loss: 2.5022 - mean_absolute_error: 2.5022 - val_loss: 7.6913 - val_mean_absolute_error: 7.6913\n"
     ]
    }
   ],
   "source": [
    "NN_model = Sequential()\n",
    "\n",
    "# The Input Layer :\n",
    "NN_model.add(Dense(units = 6, kernel_initializer='he_uniform',input_dim = X_train.shape[1], activation='relu'))\n",
    "\n",
    "# The Hidden Layers :\n",
    "NN_model.add(Dense(256, kernel_initializer='he_uniform',activation='relu'))\n",
    "NN_model.add(Dense(256, kernel_initializer='he_uniform',activation='relu'))\n",
    "NN_model.add(Dense(256, kernel_initializer='he_uniform',activation='relu'))\n",
    "\n",
    "# The Output Layer :\n",
    "NN_model.add(Dense(1, kernel_initializer='glorot_uniform',activation='linear'))\n",
    "\n",
    "# Compile the network :\n",
    "NN_model.compile(loss='mean_absolute_error', optimizer='adam', metrics=['mean_absolute_error'])\n",
    "NN_model.summary()\n",
    "\n",
    "# Fitting the ANN to the Training set\n",
    "model_history=NN_model.fit(X_train, y_train,validation_split=0.33, batch_size = 10, epochs = 100)\n"
   ]
  },
  {
   "cell_type": "code",
   "execution_count": 37,
   "metadata": {},
   "outputs": [],
   "source": [
    "prediction=NN_model.predict(X_test)"
   ]
  },
  {
   "cell_type": "code",
   "execution_count": 38,
   "metadata": {},
   "outputs": [
    {
     "data": {
      "text/plain": [
       "64     17.59\n",
       "63     18.29\n",
       "55     19.49\n",
       "111     7.25\n",
       "225    16.27\n",
       "       ...  \n",
       "90     28.97\n",
       "101    15.38\n",
       "75     10.51\n",
       "4      24.59\n",
       "109    14.31\n",
       "Name: total_bill, Length: 74, dtype: float64"
      ]
     },
     "execution_count": 38,
     "metadata": {},
     "output_type": "execute_result"
    }
   ],
   "source": [
    "y_test"
   ]
  },
  {
   "cell_type": "code",
   "execution_count": 39,
   "metadata": {},
   "outputs": [
    {
     "data": {
      "application/javascript": [
       "\n",
       "        if (window._pyforest_update_imports_cell) { window._pyforest_update_imports_cell('import pandas as pd\\nimport seaborn as sns'); }\n",
       "    "
      ],
      "text/plain": [
       "<IPython.core.display.Javascript object>"
      ]
     },
     "metadata": {},
     "output_type": "display_data"
    },
    {
     "data": {
      "text/plain": [
       "<matplotlib.axes._subplots.AxesSubplot at 0x1e253f96ac8>"
      ]
     },
     "execution_count": 39,
     "metadata": {},
     "output_type": "execute_result"
    },
    {
     "data": {
      "image/png": "[encoded data removed]",
      "text/plain": [
       "<Figure size 432x288 with 1 Axes>"
      ]
     },
     "metadata": {
      "needs_background": "light"
     },
     "output_type": "display_data"
    }
   ],
   "source": [
    "sns.distplot(y_test.values.reshape(-1,1)-prediction)"
   ]
  },
  {
   "cell_type": "code",
   "execution_count": 40,
   "metadata": {},
   "outputs": [
    {
     "data": {
      "application/javascript": [
       "\n",
       "        if (window._pyforest_update_imports_cell) { window._pyforest_update_imports_cell('import pandas as pd\\nimport matplotlib.pyplot as plt\\nimport seaborn as sns'); }\n",
       "    "
      ],
      "text/plain": [
       "<IPython.core.display.Javascript object>"
      ]
     },
     "metadata": {},
     "output_type": "display_data"
    },
    {
     "data": {
      "text/plain": [
       "<matplotlib.collections.PathCollection at 0x1e25482b3c8>"
      ]
     },
     "execution_count": 40,
     "metadata": {},
     "output_type": "execute_result"
    },
    {
     "data": {
      "image/png": "[encoded data removed]",
      "text/plain": [
       "<Figure size 432x288 with 1 Axes>"
      ]
     },
     "metadata": {
      "needs_background": "light"
     },
     "output_type": "display_data"
    }
   ],
   "source": [
    "plt.scatter(y_test,prediction)"
   ]
  },
  {
   "cell_type": "code",
   "execution_count": 41,
   "metadata": {},
   "outputs": [
    {
     "name": "stdout",
     "output_type": "stream",
     "text": [
      "MAE: 5.624505471925478\n",
      "MSE: 57.527031986687405\n"
     ]
    },
    {
     "data": {
      "application/javascript": [
       "\n",
       "        if (window._pyforest_update_imports_cell) { window._pyforest_update_imports_cell('import pandas as pd\\nimport matplotlib.pyplot as plt\\nimport numpy as np\\nimport seaborn as sns'); }\n",
       "    "
      ],
      "text/plain": [
       "<IPython.core.display.Javascript object>"
      ]
     },
     "metadata": {},
     "output_type": "display_data"
    },
    {
     "name": "stdout",
     "output_type": "stream",
     "text": [
      "RMSE: 7.584657671028232\n"
     ]
    }
   ],
   "source": [
    "from sklearn import metrics\n",
    "print('MAE:', metrics.mean_absolute_error(y_test, prediction))\n",
    "print('MSE:', metrics.mean_squared_error(y_test, prediction))\n",
    "print('RMSE:', np.sqrt(metrics.mean_squared_error(y_test, prediction)))"
   ]
  },
  {
   "cell_type": "code",
   "execution_count": 42,
   "metadata": {},
   "outputs": [],
   "source": [
    "from sklearn import metrics"
   ]
  },
  {
   "cell_type": "code",
   "execution_count": 43,
   "metadata": {},
   "outputs": [
    {
     "name": "stdout",
     "output_type": "stream",
     "text": [
      "MAE: 5.624505471925478\n",
      "MSE: 57.527031986687405\n"
     ]
    },
    {
     "data": {
      "application/javascript": [
       "\n",
       "        if (window._pyforest_update_imports_cell) { window._pyforest_update_imports_cell('import pandas as pd\\nimport matplotlib.pyplot as plt\\nimport numpy as np\\nimport seaborn as sns'); }\n",
       "    "
      ],
      "text/plain": [
       "<IPython.core.display.Javascript object>"
      ]
     },
     "metadata": {},
     "output_type": "display_data"
    },
    {
     "name": "stdout",
     "output_type": "stream",
     "text": [
      "RMSE: 7.584657671028232\n"
     ]
    }
   ],
   "source": [
    "print('MAE:', metrics.mean_absolute_error(y_test, prediction))\n",
    "print('MSE:', metrics.mean_squared_error(y_test, prediction))\n",
    "print('RMSE:', np.sqrt(metrics.mean_squared_error(y_test, prediction)))"
   ]
  }
 ],
 "metadata": {
  "kernelspec": {
   "display_name": "Python 3",
   "language": "python",
   "name": "python3"
  },
  "language_info": {
   "codemirror_mode": {
    "name": "ipython",
    "version": 3
   },
   "file_extension": ".py",
   "mimetype": "text/x-python",
   "name": "python",
   "nbconvert_exporter": "python",
   "pygments_lexer": "ipython3",
   "version": "3.7.7"
  }
 },
 "nbformat": 4,
 "nbformat_minor": 4
}
